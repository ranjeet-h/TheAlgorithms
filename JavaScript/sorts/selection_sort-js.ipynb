{
 "cells": [
  {
   "cell_type": "markdown",
   "metadata": {},
   "source": [
    "# Javascript implementation of selection sort\n"
   ]
  },
  {
   "cell_type": "code",
   "execution_count": 3,
   "metadata": {},
   "outputs": [
    {
     "name": "stdout",
     "output_type": "stream",
     "text": [
      "[\n",
      "  1, 2, 3, 4, 5,\n",
      "  6, 7, 8, 9\n",
      "]\n"
     ]
    }
   ],
   "source": [
    "function selectionSort(arr: number[]): number[] {\n",
    "  // iterate over the array\n",
    "  for (let i = 0; i < arr.length; i++) {\n",
    "    let minIndex = i;\n",
    "    /** find the minimum element in the unsorted part of the array\n",
    "     *  what is minimum element?\n",
    "     *  minimum element is the element that is the smallest in the unsorted part of the array\n",
    "     * how do we know which is the minimum element?\n",
    "     * we can compare the elements and find the minimum element\n",
    "     * we can start from the next element of the current element and compare it with the current element\n",
    "     * if the next element is smaller than the current element, then we will update the minimum element\n",
    "     * we will continue this process until we have compared all the elements in the unsorted part of the array\n",
    "     * why we are assigning minIndex to i?\n",
    "     * because we are assuming that the first element is the minimum element\n",
    "     * we will update the minimum element when we find a smaller element in the unsorted part of the array\n",
    "     */\n",
    "    for (let j = i + 1; j < arr.length; j++) {\n",
    "      // compare the elements\n",
    "      // if the element is smaller than the current minimum element, then we will update the minimum element\n",
    "      if (arr[j] < arr[minIndex]) {\n",
    "        minIndex = j;\n",
    "      }\n",
    "    }\n",
    "    // if the minimum element is not the current element, then we will swap the elements\n",
    "    if (minIndex !== i) {\n",
    "      [arr[i], arr[minIndex]] = [arr[minIndex], arr[i]];\n",
    "    }\n",
    "  }\n",
    "  // return the sorted array\n",
    "  return arr;\n",
    "}\n",
    "\n",
    "console.log(selectionSort([3, 8, 5, 4, 1, 9, 6, 7, 2]));\n"
   ]
  }
 ],
 "metadata": {
  "kernelspec": {
   "display_name": "Deno",
   "language": "typescript",
   "name": "deno"
  },
  "language_info": {
   "codemirror_mode": "typescript",
   "file_extension": ".ts",
   "mimetype": "text/x.typescript",
   "name": "typescript",
   "nbconvert_exporter": "script",
   "pygments_lexer": "typescript",
   "version": "5.6.2"
  }
 },
 "nbformat": 4,
 "nbformat_minor": 2
}
