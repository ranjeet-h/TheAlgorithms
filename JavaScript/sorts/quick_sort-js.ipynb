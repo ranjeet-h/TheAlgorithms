{
 "cells": [
  {
   "cell_type": "markdown",
   "metadata": {},
   "source": [
    "# Javascript implementation of quick sort\n",
    "\n",
    " * Quick sort is a divide and conquer algorithm.\n",
    " * It works by selecting a 'pivot' element from the array and partitioning the other elements into two sub-arrays,\n",
    " * according to whether they are less than or greater than the pivot.\n",
    " * The sub-arrays are then sorted recursively.\n",
    " * At the end, the pivot is in its final position and the two sub-arrays are sorted."
   ]
  },
  {
   "cell_type": "code",
   "execution_count": 2,
   "metadata": {},
   "outputs": [
    {
     "name": "stdout",
     "output_type": "stream",
     "text": [
      "[\n",
      "  -7, -4, -1, 2, 3,\n",
      "   5,  6,  8, 9\n",
      "]\n"
     ]
    }
   ],
   "source": [
    "function quickSort(arr: number[]): number[] {\n",
    "  /**\n",
    "   * First we check if the array is empty or has only one element, if so, we return the array as it is.\n",
    "   */\n",
    "  if (arr.length <= 1) {\n",
    "    return arr;\n",
    "  }\n",
    "  /**\n",
    "   * We select a pivot element from the array.\n",
    "   * We then partition the other elements into two sub-arrays, according to whether they are less than or greater than the pivot.\n",
    "   */\n",
    "  const pivot = arr[Math.floor(arr.length / 2)];\n",
    "  const left = arr.filter((item) => item < pivot);\n",
    "  const right = arr.filter((item) => item > pivot);\n",
    "  /**\n",
    "   * We then recursively sort the two sub-arrays and combine them with the pivot.\n",
    "   */\n",
    "  return [...quickSort(left), pivot, ...quickSort(right)];\n",
    "}\n",
    "\n",
    "\n",
    "console.log(quickSort([3, 8, 5, -4, -1, 9, 6, -7, 2]));"
   ]
  }
 ],
 "metadata": {
  "kernelspec": {
   "display_name": "Deno",
   "language": "typescript",
   "name": "deno"
  },
  "language_info": {
   "codemirror_mode": "typescript",
   "file_extension": ".ts",
   "mimetype": "text/x.typescript",
   "name": "typescript",
   "nbconvert_exporter": "script",
   "pygments_lexer": "typescript",
   "version": "5.6.2"
  }
 },
 "nbformat": 4,
 "nbformat_minor": 2
}
