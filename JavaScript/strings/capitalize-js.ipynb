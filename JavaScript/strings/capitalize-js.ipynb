{
 "cells": [
  {
   "cell_type": "code",
   "execution_count": 5,
   "metadata": {},
   "outputs": [
    {
     "name": "stdout",
     "output_type": "stream",
     "text": [
      "This is capitalize\n",
      "THIS IS UPPERCASE\n",
      "this is lowercase\n"
     ]
    }
   ],
   "source": [
    "function capitalize(str: string): string\n",
    "{\n",
    "  if (str.length === 0) {\n",
    "    return str;\n",
    "  }\n",
    "  const lower_to_upper = str.charAt(0).toUpperCase();\n",
    "  const rest_of_string = str.slice(1);\n",
    "  return lower_to_upper + rest_of_string;\n",
    "}\n",
    "\n",
    "\n",
    "function uppercase(str: string): string\n",
    "{\n",
    "  return str.toUpperCase();\n",
    "}\n",
    "\n",
    "function lowercase(str: string): string\n",
    "{\n",
    "  return str.toLowerCase();\n",
    "}\n",
    "\n",
    "console.log(capitalize(\"this is capitalize\"));\n",
    "console.log(uppercase(\"this is uppercase\"));\n",
    "console.log(lowercase(\"THIS IS LOWERCASE\"));\n"
   ]
  }
 ],
 "metadata": {
  "kernelspec": {
   "display_name": "Deno",
   "language": "typescript",
   "name": "deno"
  },
  "language_info": {
   "codemirror_mode": "typescript",
   "file_extension": ".ts",
   "mimetype": "text/x.typescript",
   "name": "typescript",
   "nbconvert_exporter": "script",
   "pygments_lexer": "typescript",
   "version": "5.6.2"
  }
 },
 "nbformat": 4,
 "nbformat_minor": 2
}
