{
 "cells": [
  {
   "cell_type": "markdown",
   "metadata": {},
   "source": [
    "# Algorithms to determine if a string is palindrome\n"
   ]
  },
  {
   "cell_type": "code",
   "execution_count": 68,
   "metadata": {},
   "outputs": [],
   "source": [
    "function timeit(callback: () => void, number: number = 1) {\n",
    "  const start = performance.now();\n",
    "  for (let i = 0; i < number; i++) {\n",
    "    callback();\n",
    "  }\n",
    "  const end = performance.now();\n",
    "  return (end - start) / 1000; // Return the average time taken in seconds\n",
    "}\n",
    "\n",
    "var test_data = {\n",
    "  MALAYALAM: true,\n",
    "  String: false,\n",
    "  rotor: true,\n",
    "  level: true,\n",
    "  A: true,\n",
    "  BB: true,\n",
    "  ABC: false,\n",
    "  to: false,\n",
    "  amanaplanacanalpanama: true,\n",
    "};\n"
   ]
  },
  {
   "cell_type": "code",
   "execution_count": 69,
   "metadata": {},
   "outputs": [],
   "source": [
    "function benchMarkFunction(name: string, fun: (s: string) => boolean) {\n",
    "  const number = 10000;\n",
    "  const result = timeit(() => {\n",
    "    Object.entries(test_data).every(([key, value]) => {\n",
    "      return fun(key) === value;\n",
    "    });\n",
    "  }, number);\n",
    "  console.log(\n",
    "    `${name.padEnd(\n",
    "      35\n",
    "    )} finished ${number.toLocaleString()} runs in ${result.toFixed(5)} seconds`\n",
    "  );\n",
    "}\n"
   ]
  },
  {
   "cell_type": "code",
   "execution_count": 70,
   "metadata": {},
   "outputs": [],
   "source": [
    "function is_palindrome(s: string): boolean {\n",
    "  /*\n",
    "  Return true if s:string is a palindrome otherwise return false.\n",
    "  */\n",
    "  let start_i = 0;\n",
    "  // Here we are assigning the start_i to 0 index of the string.\n",
    "  let end_i = s.length - 1;\n",
    "  // Here we are assigning the end_i to the last index of the string.\n",
    "  while (start_i < end_i) {\n",
    "    // We are looping through the string until the start_i and end_i are equal or cross each other.\n",
    "    // that way we are sure all the characters are checked with the each other.\n",
    "    if (s[start_i] === s[end_i]) {\n",
    "      // if the characters at the start_i and end_i are equal then we are incrementing the start_i and decrementing the end_i.\n",
    "      // so for example if the string is \"MALAYALAM\" then the start_i will be 0 and end_i will be 8.\n",
    "      // and we keep chars and if true we weill keep increasing the start_i and decreasing the end_i.\n",
    "      // until start_i is less than end_i.\n",
    "      start_i++;\n",
    "      end_i--;\n",
    "    } else {\n",
    "      // if the characters at the start_i and end_i are not equal then we are returning false.\n",
    "      return false;\n",
    "    }\n",
    "  }\n",
    "  // if all the characters are checked and they are equal then we are returning true.\n",
    "  return true;\n",
    "}\n"
   ]
  },
  {
   "cell_type": "code",
   "execution_count": 71,
   "metadata": {},
   "outputs": [],
   "source": [
    "function is_palindrome_traversal(s: string): boolean {\n",
    "  /**\n",
    "   * Return true if s is a palindrome otherwise return false.\n",
    "   */\n",
    "  // Here we are calculating the mid point of the string.\n",
    "  // info: for example if the string is \"MALAYALAM\" then length is 9 and mid is 4.5 and floor of 4.5 is 4.\n",
    "  let mid = Math.floor(s.length / 2);\n",
    "  // We are assigning the end to the last index of the string.\n",
    "  let end = s.length - 1;\n",
    "  /**\n",
    "   * here we are creating and array of length of the mid so it will only loop the mid times.\n",
    "   * and then we loop through the array with every\n",
    "   * every is a function that returns true if all the elements looped callback function returns true.\n",
    "   * else it returns false immediately.\n",
    "   * the in callback we are checking if the characters at the start and end are equal.\n",
    "   * till the length of the new created array.\n",
    "   */\n",
    "  return Array.from({ length: mid }).every((_, i) => {\n",
    "    return s[i] === s[end - i];\n",
    "  });\n",
    "}\n"
   ]
  },
  {
   "cell_type": "code",
   "execution_count": 72,
   "metadata": {},
   "outputs": [],
   "source": [
    "function is_palindrome_recursive(s: string): boolean {\n",
    "  /**\n",
    "   * Return true if s is a palindrome otherwise return false.\n",
    "   */\n",
    "  // Here we are checking if the length of the string is 0 or 1 then we are returning true.\n",
    "  // this is the base case for the recursive function.\n",
    "  if (s.length === 0 || s.length === 1) {\n",
    "    return true;\n",
    "  }\n",
    "  // Here we are checking if the first and last character of the string are equal.\n",
    "  // if they are equal then we are calling the function recursively with the string without the first and last character.\n",
    "  if (s[0] === s[s.length - 1]) {\n",
    "    // we are slicing the string from the 1st index to the last index.\n",
    "    // which means we are removing the first and last character of the string.\n",
    "    return is_palindrome_recursive(s.slice(1, s.length - 1));\n",
    "  }\n",
    "  // if the first and last character of the string are not equal then we are returning false.\n",
    "  return false;\n",
    "}\n"
   ]
  },
  {
   "cell_type": "code",
   "execution_count": 73,
   "metadata": {},
   "outputs": [],
   "source": [
    "function is_palindrome_slice(s: string): boolean {\n",
    "  /**\n",
    "   * Return true if s is a palindrome otherwise return false.\n",
    "   */\n",
    "  // Here we are checking if the string is equal to the reverse of the string.\n",
    "  // step 1: we are splitting the string into an array of characters.\n",
    "  // step 2: we are reversing the array of characters.\n",
    "  // step 3: we are joining the array of characters into a string.\n",
    "  // step 4: we are checking if the string is equal to the reversed string.\n",
    "  return s === s.split(\"\").reverse().join(\"\");\n",
    "}\n"
   ]
  },
  {
   "cell_type": "code",
   "execution_count": 74,
   "metadata": {},
   "outputs": [
    {
     "name": "stdout",
     "output_type": "stream",
     "text": [
      "is_palindrome                       finished 10,000 runs in 0.03454 seconds\n"
     ]
    },
    {
     "name": "stdout",
     "output_type": "stream",
     "text": [
      "is_palindrome_traversal             finished 10,000 runs in 0.06450 seconds\n",
      "is_palindrome_recursive             finished 10,000 runs in 0.00531 seconds\n",
      "is_palindrome_slice                 finished 10,000 runs in 0.01628 seconds\n"
     ]
    }
   ],
   "source": [
    "// Benchmarking the functions\n",
    "benchMarkFunction(\"is_palindrome\", is_palindrome);\n",
    "benchMarkFunction(\"is_palindrome_traversal\", is_palindrome_traversal);\n",
    "benchMarkFunction(\"is_palindrome_recursive\", is_palindrome_recursive);\n",
    "benchMarkFunction(\"is_palindrome_slice\", is_palindrome_slice);\n",
    "\n",
    "// Here Big O of the functions for time and space complexity.\n",
    "// Function   Time Complexity / Space Complexity\n",
    "// is_palindrome: O(n) / O(1)\n",
    "// is_palindrome_traversal: O(n) / O(1)\n",
    "// is_palindrome_recursive: O(n) / O(1)\n",
    "// is_palindrome_slice: O(n) / O(1)"
   ]
  }
 ],
 "metadata": {
  "kernelspec": {
   "display_name": "Deno",
   "language": "typescript",
   "name": "deno"
  },
  "language_info": {
   "codemirror_mode": "typescript",
   "file_extension": ".ts",
   "mimetype": "text/x.typescript",
   "name": "typescript",
   "nbconvert_exporter": "script",
   "pygments_lexer": "typescript",
   "version": "5.6.2"
  }
 },
 "nbformat": 4,
 "nbformat_minor": 2
}
