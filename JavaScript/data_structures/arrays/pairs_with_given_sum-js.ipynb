{
 "cells": [
  {
   "cell_type": "code",
   "execution_count": 4,
   "metadata": {},
   "outputs": [
    {
     "name": "stdout",
     "output_type": "stream",
     "text": [
      "[ [ 1, 5 ], [ 1, 5 ], [ 7, -1 ] ]\n",
      "[ [ 5, 1 ], [ -1, 7 ], [ 5, 1 ] ]\n"
     ]
    }
   ],
   "source": [
    "// In typescript\n",
    "// Given an array of integers and an integer req_sum, find the number of pairs of array\n",
    "// elements whose sum is equal to req_sum.\n",
    "\n",
    "// https://practice.geeksforgeeks.org/problems/count-pairs-with-given-sum5022/0\n",
    "\n",
    "\n",
    "// Brute force approach\n",
    "function pairs_with_given_sum(arr: number[], req_sum: number): number {\n",
    "  // here we need to return array of pairs\n",
    "  let pairs = [];\n",
    "  for (let i = 0; i < arr.length; i++) {\n",
    "    for (let j = i + 1; j < arr.length; j++) {\n",
    "      if (arr[i] + arr[j] === req_sum) {\n",
    "        pairs.push([arr[i], arr[j]]);\n",
    "      }\n",
    "    }\n",
    "  }\n",
    "  return pairs;\n",
    "}\n",
    "\n",
    "// Optimized approach to return all possible pairs\n",
    "function pairs_with_given_sum_optimized(arr: number[], req_sum: number): number[][] {\n",
    "  let hash_map = new Map();\n",
    "  let pairs = [];\n",
    "  for (let i = 0; i < arr.length; i++) {\n",
    "    let complement = req_sum - arr[i];\n",
    "    if (hash_map.has(complement)) {\n",
    "      pairs.push([arr[i], complement]);\n",
    "    }\n",
    "    hash_map.set(arr[i], i);\n",
    "  }\n",
    "  return pairs;\n",
    "}\n",
    "\n",
    "console.log(pairs_with_given_sum([1, 5, 7, -1, 5], 6));\n",
    "console.log(pairs_with_given_sum_optimized([1, 5, 7, -1, 5], 6));\n"
   ]
  }
 ],
 "metadata": {
  "kernelspec": {
   "display_name": "Deno",
   "language": "typescript",
   "name": "deno"
  },
  "language_info": {
   "codemirror_mode": "typescript",
   "file_extension": ".ts",
   "mimetype": "text/x.typescript",
   "name": "typescript",
   "nbconvert_exporter": "script",
   "pygments_lexer": "typescript",
   "version": "5.6.2"
  }
 },
 "nbformat": 4,
 "nbformat_minor": 2
}
