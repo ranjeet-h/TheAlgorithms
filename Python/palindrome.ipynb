{
 "cells": [
  {
   "cell_type": "markdown",
   "metadata": {},
   "source": [
    "# Algorithms to determine if a string is palindrome"
   ]
  },
  {
   "cell_type": "code",
   "execution_count": 1,
   "metadata": {},
   "outputs": [],
   "source": [
    "# Cell 1 - Imports and Test Data\n",
    "from timeit import timeit\n",
    "\n",
    "test_data = {\n",
    "    \"MALAYALAM\": True,\n",
    "    \"String\": False,\n",
    "    \"rotor\": True,\n",
    "    \"level\": True,\n",
    "    \"A\": True,\n",
    "    \"BB\": True,\n",
    "    \"ABC\": False,\n",
    "    \"amanaplanacanalpanama\": True,  # \"a man a plan a canal panama\"\n",
    "}\n",
    "# Ensure our test data is valid\n",
    "assert all((key == key[::-1]) is value for key, value in test_data.items())"
   ]
  },
  {
   "cell_type": "code",
   "execution_count": 2,
   "metadata": {},
   "outputs": [],
   "source": [
    "# Cell 2 - First Implementation\n",
    "def is_palindrome(s: str) -> bool:\n",
    "    \"\"\"\n",
    "    Return True if s is a palindrome otherwise return False.\n",
    "    \"\"\"\n",
    "    start_i = 0\n",
    "    end_i = len(s) - 1\n",
    "    while start_i < end_i:\n",
    "        if s[start_i] == s[end_i]:\n",
    "            start_i += 1\n",
    "            end_i -= 1\n",
    "        else:\n",
    "            return False\n",
    "    return True"
   ]
  },
  {
   "cell_type": "code",
   "execution_count": 3,
   "metadata": {},
   "outputs": [],
   "source": [
    "# Cell 3 - Second Implementation\n",
    "def is_palindrome_traversal(s: str) -> bool:\n",
    "    \"\"\"\n",
    "    Return True if s is a palindrome otherwise return False.\n",
    "    \"\"\"\n",
    "    end = len(s) // 2\n",
    "    n = len(s)\n",
    "    return all(s[i] == s[n - i - 1] for i in range(end))"
   ]
  },
  {
   "cell_type": "code",
   "execution_count": 4,
   "metadata": {},
   "outputs": [],
   "source": [
    "# Cell 4 - Third Implementation\n",
    "def is_palindrome_recursive(s: str) -> bool:\n",
    "    \"\"\"\n",
    "    Return True if s is a palindrome otherwise return False.\n",
    "    \"\"\"\n",
    "    if len(s) <= 2:\n",
    "        return True\n",
    "    if s[0] == s[len(s) - 1]:\n",
    "        return is_palindrome_recursive(s[1:-1])\n",
    "    else:\n",
    "        return False"
   ]
  },
  {
   "cell_type": "code",
   "execution_count": 5,
   "metadata": {},
   "outputs": [],
   "source": [
    "# Cell 5 - Fourth Implementation\n",
    "def is_palindrome_slice(s: str) -> bool:\n",
    "    \"\"\"\n",
    "    Return True if s is a palindrome otherwise return False.\n",
    "    \"\"\"\n",
    "    return s == s[::-1]"
   ]
  },
  {
   "cell_type": "code",
   "execution_count": 6,
   "metadata": {},
   "outputs": [],
   "source": [
    "# Cell 6 - Benchmark Function\n",
    "def benchmark_function(name: str) -> None:\n",
    "    stmt = f\"all({name}(key) is value for key, value in test_data.items())\"\n",
    "    setup = f\"from __main__ import test_data, {name}\"\n",
    "    number = 500000\n",
    "    result = timeit(stmt=stmt, setup=setup, number=number)\n",
    "    print(f\"{name:<35} finished {number:,} runs in {result:.5f} seconds\")\n"
   ]
  },
  {
   "cell_type": "code",
   "execution_count": 7,
   "metadata": {},
   "outputs": [
    {
     "name": "stdout",
     "output_type": "stream",
     "text": [
      "MALAYALAM             True\n",
      "String                False\n",
      "rotor                 True\n",
      "level                 True\n",
      "A                     True\n",
      "BB                    True\n",
      "ABC                   False\n",
      "amanaplanacanalpanama True\n",
      "a man a plan a canal panama\n",
      "is_palindrome_slice                 finished 500,000 runs in 0.35632 seconds\n",
      "is_palindrome                       finished 500,000 runs in 0.60613 seconds\n",
      "is_palindrome_recursive             finished 500,000 runs in 0.93244 seconds\n",
      "is_palindrome_traversal             finished 500,000 runs in 1.16791 seconds\n"
     ]
    }
   ],
   "source": [
    "# Cell 7 - Testing and Benchmarking\n",
    "# Test all implementations\n",
    "for key, value in test_data.items():\n",
    "    assert is_palindrome(key) is is_palindrome_recursive(key)\n",
    "    assert is_palindrome(key) is is_palindrome_slice(key)\n",
    "    print(f\"{key:21} {value}\")\n",
    "print(\"a man a plan a canal panama\")\n",
    "\n",
    "# Cell 8 - Run Benchmarks\n",
    "benchmark_function(\"is_palindrome_slice\")\n",
    "benchmark_function(\"is_palindrome\")\n",
    "benchmark_function(\"is_palindrome_recursive\")\n",
    "benchmark_function(\"is_palindrome_traversal\")"
   ]
  }
 ],
 "metadata": {
  "kernelspec": {
   "display_name": "Python 3 (ipykernel)",
   "language": "python",
   "name": "python3"
  },
  "language_info": {
   "codemirror_mode": {
    "name": "ipython",
    "version": 3
   },
   "file_extension": ".py",
   "mimetype": "text/x-python",
   "name": "python",
   "nbconvert_exporter": "python",
   "pygments_lexer": "ipython3",
   "version": "3.13.1"
  }
 },
 "nbformat": 4,
 "nbformat_minor": 2
}
