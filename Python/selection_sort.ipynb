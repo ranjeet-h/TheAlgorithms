{
 "cells": [
  {
   "cell_type": "code",
   "execution_count": 1,
   "metadata": {},
   "outputs": [
    {
     "name": "stdout",
     "output_type": "stream",
     "text": [
      "Sorted List: [1, 2, 3, 4, 5, 6, 7, 8, 9]\n"
     ]
    }
   ],
   "source": [
    "def selection_sort(collection: list[int]) -> list[int]:\n",
    "    \"\"\"\n",
    "    Sorts a list in ascending order using the selection sort algorithm.\n",
    "\n",
    "    :param collection: A list of integers to be sorted.\n",
    "    :return: The sorted list.\n",
    "\n",
    "    Examples:\n",
    "    >>> selection_sort([0, 5, 3, 2, 2])\n",
    "    [0, 2, 2, 3, 5]\n",
    "\n",
    "    >>> selection_sort([])\n",
    "    []\n",
    "\n",
    "    >>> selection_sort([-2, -5, -45])\n",
    "    [-45, -5, -2]\n",
    "    \"\"\"\n",
    "\n",
    "    length = len(collection)\n",
    "    for i in range(length - 1):\n",
    "        min_index = i\n",
    "        for k in range(i + 1, length):\n",
    "            if collection[k] < collection[min_index]:\n",
    "                min_index = k\n",
    "        if min_index != i:\n",
    "            collection[i], collection[min_index] = collection[min_index], collection[i]\n",
    "    return collection\n",
    "\n",
    "\n",
    "if __name__ == \"__main__\":\n",
    "    # user_input = input(\"Enter numbers separated by a comma:\\n\").strip()\n",
    "    # unsorted = [int(item) for item in user_input.split(\",\")]\n",
    "    unsorted = [3, 8, 5, 4, 1, 9, 6, 7, 2]\n",
    "    sorted_list = selection_sort(unsorted)\n",
    "    print(\"Sorted List:\", sorted_list)"
   ]
  }
 ],
 "metadata": {
  "kernelspec": {
   "display_name": "Python 3 (ipykernel)",
   "language": "python",
   "name": "python3"
  }
 },
 "nbformat": 4,
 "nbformat_minor": 2
}
