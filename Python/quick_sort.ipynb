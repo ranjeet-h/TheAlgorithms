{
 "cells": [
  {
   "cell_type": "code",
   "execution_count": 3,
   "metadata": {},
   "outputs": [
    {
     "name": "stdout",
     "output_type": "stream",
     "text": [
      "[-7, -4, -1, 2, 3, 5, 6, 8, 9]\n"
     ]
    }
   ],
   "source": [
    "\"\"\"\n",
    "A pure Python implementation of the quick sort algorithm\n",
    "\n",
    "For doctests run following command:\n",
    "python3 -m doctest -v quick_sort.py\n",
    "\n",
    "For manual testing run:\n",
    "python3 quick_sort.py\n",
    "\"\"\"\n",
    "\n",
    "from __future__ import annotations\n",
    "\n",
    "from random import randrange\n",
    "\n",
    "\n",
    "def quick_sort(collection: list) -> list:\n",
    "    \"\"\"A pure Python implementation of quicksort algorithm.\n",
    "\n",
    "    :param collection: a mutable collection of comparable items\n",
    "    :return: the same collection ordered in ascending order\n",
    "\n",
    "    Examples:\n",
    "    >>> quick_sort([0, 5, 3, 2, 2])\n",
    "    [0, 2, 2, 3, 5]\n",
    "    >>> quick_sort([])\n",
    "    []\n",
    "    >>> quick_sort([-2, 5, 0, -45])\n",
    "    [-45, -2, 0, 5]\n",
    "    \"\"\"\n",
    "    # Base case: if the collection has 0 or 1 elements, it is already sorted\n",
    "    if len(collection) < 2:\n",
    "        return collection\n",
    "\n",
    "    # Randomly select a pivot index and remove the pivot element from the collection\n",
    "    pivot_index = randrange(len(collection))\n",
    "    pivot = collection.pop(pivot_index)\n",
    "\n",
    "    # Partition the remaining elements into two groups: lesser or equal, and greater\n",
    "    lesser = [item for item in collection if item <= pivot]\n",
    "    greater = [item for item in collection if item > pivot]\n",
    "\n",
    "    # Recursively sort the lesser and greater groups, and combine with the pivot\n",
    "    return [*quick_sort(lesser), pivot, *quick_sort(greater)]\n",
    "\n",
    "\n",
    "if __name__ == \"__main__\":\n",
    "    # Get user input and convert it into a list of integers\n",
    "    # user_input = input(\"Enter numbers separated by a comma:\\n\").strip()\n",
    "    # unsorted = [int(item) for item in user_input.split(\",\")]\n",
    "    unsorted = [3, 8, 5, -4, -1, 9, 6, -7, 2]\n",
    "\n",
    "    # Print the result of sorting the user-provided list\n",
    "    print(quick_sort(unsorted))"
   ]
  }
 ],
 "metadata": {
  "kernelspec": {
   "display_name": "Python 3 (ipykernel)",
   "language": "python",
   "name": "python3"
  }
 },
 "nbformat": 4,
 "nbformat_minor": 2
}
